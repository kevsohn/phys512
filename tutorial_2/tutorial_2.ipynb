{
 "cells": [
  {
   "cell_type": "markdown",
   "metadata": {},
   "source": [
    "# Tutorial 2\n",
    "Last tutorial we went over the basics of `git`, and talked a little bit about the basics of `python` in the context of data science."
   ]
  },
  {
   "cell_type": "markdown",
   "metadata": {},
   "source": [
    "### Review: What have we done so far?\n",
    "- **Version control:** `git` is confusing, so setting it up and gaining understanding is a bit tricky at first. Keep working at it, play around with making repos/commits/etc in your own private repo if you need more experience.\n",
    "    - \"Basics of Git\" pdf in the `tutorial_1` folder on GitHub from what we did last time\n",
    "- **Floating point arithmetic:** Computers can't represent numbers exactly, and the specifics on how they deal with that can be important to know when doing data analysis.\n",
    "    - The long and the short of it is to just be cognisant of floats in the context of your data analysis. You can look up the specifics again when problems show up and you think floating point arithmetic is the culprit.\n",
    "    - [This article](https://www.itu.dk/~sestoft/bachelor/IEEE754_article.pdf) tells you everything you need to know, but it's a bit dense, so don't worry about reading it all. There's also a resource on [computer memory](http://statmath.wu.ac.at/courses/data-analysis/itdtHTML/node55.html) for if you haven't had to deal with these sorts of things before. It's helpful for better understanding floating point numbers in general!\n",
    "- **Numerical derivatives:** By taking the definition of the derivative with f(x+dx) and expanding, we can find a formulation of a \"good\" choice for dx\n",
    "- **Interpolation:** If we only have a set of points and no functional form, it can still be useful to try and find a value between your two points\n",
    "    - The [wiki](https://en.wikipedia.org/wiki/Interpolation) article does a great job of summarizing everything that was talked about in class\n",
    "    - Cubic splines (often just termed \"splines\") are probably the most common method. Uses polynomials to fit intervals. Useful because you can just store coefficients!\n",
    "    - Can use `scipy`'s `interpolate` package\n",
    "- **Integration:** "
   ]
  },
  {
   "cell_type": "markdown",
   "metadata": {},
   "source": [
    "### Questions about `python` and `git`?"
   ]
  },
  {
   "cell_type": "markdown",
   "metadata": {},
   "source": [
    "### Questions about the lectures?"
   ]
  },
  {
   "cell_type": "markdown",
   "metadata": {},
   "source": [
    "### Questions about problem set?"
   ]
  },
  {
   "cell_type": "markdown",
   "metadata": {},
   "source": [
    "# "
   ]
  }
 ],
 "metadata": {
  "kernelspec": {
   "display_name": "Python 3",
   "language": "python",
   "name": "python3"
  },
  "language_info": {
   "codemirror_mode": {
    "name": "ipython",
    "version": 3
   },
   "file_extension": ".py",
   "mimetype": "text/x-python",
   "name": "python",
   "nbconvert_exporter": "python",
   "pygments_lexer": "ipython3",
   "version": "3.6.8"
  }
 },
 "nbformat": 4,
 "nbformat_minor": 2
}
