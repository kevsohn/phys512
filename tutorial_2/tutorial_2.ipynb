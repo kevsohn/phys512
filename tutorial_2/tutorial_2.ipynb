{
 "cells": [
  {
   "cell_type": "markdown",
   "metadata": {},
   "source": [
    "# Tutorial 2\n",
    "Last tutorial we went over the basics of `git`, and talked a little bit about the basics of `python` in the context of data science."
   ]
  },
  {
   "cell_type": "markdown",
   "metadata": {},
   "source": [
    "### Review: What have we done so far?\n",
    "- **Version control:** `git` is confusing, so setting it up and gaining understanding is a bit tricky at first. Keep working at it, play around with making repos/commits/etc in your own private repo if you need more experience.\n",
    "    - \"Basics of Git\" pdf in the `tutorial_1` folder on GitHub from what we did last time\n",
    "- **Floating point arithmetic:** Computers can't represent numbers exactly, and the specifics on how they deal with that can be important to know when doing data analysis.\n",
    "    - The long and the short of it is to just be cognisant of floats in the context of your data analysis. You can look up the specifics again when problems show up and you think floating point arithmetic is the culprit.\n",
    "    - [This article](https://www.itu.dk/~sestoft/bachelor/IEEE754_article.pdf) tells you everything you need to know, but it's a bit dense, so don't worry about reading it all. There's also a resource on [computer memory](http://statmath.wu.ac.at/courses/data-analysis/itdtHTML/node55.html) for if you haven't had to deal with these sorts of things before. It's helpful for better understanding floating point numbers in general!\n",
    "- **Numerical derivatives:** By taking the definition of the derivative with f(x+dx) and expanding, we can find a formulation of a \"good\" choice for dx\n",
    "- **Interpolation:** If we only have a set of points and no functional form, it can still be useful to try and find a value between your two points.\n",
    "    - The [wiki](https://en.wikipedia.org/wiki/Interpolation) article does a great job of summarizing everything that was talked about in class\n",
    "    - Cubic splines (often just termed \"splines\") are probably the most common method. Uses polynomials to fit intervals. Useful because you can just store coefficients!\n",
    "    - Can use `scipy`'s `interpolate` package\n",
    "- **Integration:** Linear, Simpson's rule, Legendre polynomials"
   ]
  },
  {
   "cell_type": "markdown",
   "metadata": {},
   "source": [
    "### Questions about `python` and `git`?"
   ]
  },
  {
   "cell_type": "markdown",
   "metadata": {},
   "source": [
    "### Questions about the lectures?"
   ]
  },
  {
   "cell_type": "markdown",
   "metadata": {},
   "source": [
    "### Questions about problem set?"
   ]
  },
  {
   "cell_type": "markdown",
   "metadata": {},
   "source": [
    "### Examples"
   ]
  },
  {
   "cell_type": "markdown",
   "metadata": {},
   "source": [
    "Let's look at some examples to help understand the problem set."
   ]
  },
  {
   "cell_type": "code",
   "execution_count": null,
   "metadata": {},
   "outputs": [],
   "source": [
    "# Problem 2 asks us to interpolate between points. Let's make our own\n",
    "# set of data to practice interpolation\n",
    "import numpy as np\n",
    "from scipy import interpolate\n",
    "import matplotlib.pyplot as plt\n",
    "\n",
    "x = np.linspace(-np.pi,np.pi,num=100)\n",
    "y = np.sinc(x)\n",
    "x_sparse = x[::10]\n",
    "y_sparse = np.sinc(x_sparse)"
   ]
  },
  {
   "cell_type": "markdown",
   "metadata": {},
   "source": [
    "Let's make a simple plot to see what we're working with"
   ]
  },
  {
   "cell_type": "code",
   "execution_count": null,
   "metadata": {},
   "outputs": [],
   "source": [
    "plt.plot(x_sparse,y_sparse,'*')\n",
    "plt.plot(x,y)\n",
    "plt.show()"
   ]
  },
  {
   "cell_type": "markdown",
   "metadata": {},
   "source": [
    "Look up documentation for `splrep` and `splev` to see what they're doing exactly"
   ]
  },
  {
   "cell_type": "code",
   "execution_count": null,
   "metadata": {},
   "outputs": [],
   "source": [
    "interpolate.splrep?"
   ]
  },
  {
   "cell_type": "code",
   "execution_count": null,
   "metadata": {},
   "outputs": [],
   "source": [
    "interpolate.splev?"
   ]
  },
  {
   "cell_type": "markdown",
   "metadata": {},
   "source": [
    "Make note: `splrep` can return some extra goodies if we set the flag `full_output=1`! This might prove useful in the future. Also note what `splrep` returns in general: `spline` is a tuple containing the \"knots\" of our spline (where the piecewise portions of the spline meet), the coefficients of the spline, and the degree of the spline."
   ]
  },
  {
   "cell_type": "markdown",
   "metadata": {},
   "source": [
    "Make a spline, and evaluate it at some points across the range of our data"
   ]
  },
  {
   "cell_type": "code",
   "execution_count": null,
   "metadata": {},
   "outputs": [],
   "source": [
    "spline = interpolate.splrep(x_sparse, y_sparse)"
   ]
  },
  {
   "cell_type": "code",
   "execution_count": null,
   "metadata": {},
   "outputs": [],
   "source": [
    "spline"
   ]
  },
  {
   "cell_type": "code",
   "execution_count": null,
   "metadata": {},
   "outputs": [],
   "source": [
    "x_interp = np.linspace(x[0],x[-1],2000)\n",
    "y_interp = interpolate.splev(x_interp, spline)"
   ]
  },
  {
   "cell_type": "markdown",
   "metadata": {},
   "source": [
    "Plot again to see how our spline did"
   ]
  },
  {
   "cell_type": "code",
   "execution_count": null,
   "metadata": {},
   "outputs": [],
   "source": [
    "plt.plot(x_sparse,y_sparse,'*')\n",
    "plt.plot(x,y)\n",
    "plt.plot(x_interp,y_interp)\n",
    "plt.show()"
   ]
  },
  {
   "cell_type": "markdown",
   "metadata": {},
   "source": [
    "Now let's try writing our own function definition to make the use of 1D cubic splines more straightforward"
   ]
  },
  {
   "cell_type": "code",
   "execution_count": null,
   "metadata": {},
   "outputs": [],
   "source": [
    "def spline_1d(f, x_data, y_data, n):\n",
    "    \"\"\"\n",
    "    Returns the 1D cubic spline interpolation of f(x) between the boundaries\n",
    "    of x_data\n",
    "    \n",
    "    INPUT:\n",
    "    ------\n",
    "    f : function\n",
    "        Some 1D function giving an f(x) = y\n",
    "    x_data : array_like\n",
    "        The x values we want to interpolate between\n",
    "    y_data : array_like\n",
    "        The y values we want to interpolate between\n",
    "    n : int\n",
    "        The number of points to have in our interpolation\n",
    "        \n",
    "    OUTPUT:\n",
    "    -------\n",
    "    x_spline : array_like\n",
    "        The x values for our spline interpolation\n",
    "    y_spline : array_like\n",
    "        The estimated f(x) = y for our values of x_spline\n",
    "    \"\"\"\n",
    "    assert n > 0, \"Must have number of points >0!\"\n",
    "    # Your code here!\n",
    "    return x_spline, y_spline"
   ]
  },
  {
   "cell_type": "markdown",
   "metadata": {},
   "source": [
    "Let's try a few exercises to practice working with recursion before diving into integration that involves recursion."
   ]
  },
  {
   "cell_type": "code",
   "execution_count": null,
   "metadata": {},
   "outputs": [],
   "source": [
    "### Example\n",
    "\n",
    "def has_seven(k):\n",
    "    \"\"\"Returns True if at least one of the digits of k is a 7, False otherwise.\n",
    "\n",
    "    >>> has_seven(3)\n",
    "    False\n",
    "    >>> has_seven(7)\n",
    "    True\n",
    "    >>> has_seven(2734)\n",
    "    True\n",
    "    >>> has_seven(2634)\n",
    "    False\n",
    "    >>> has_seven(734)\n",
    "    True\n",
    "    >>> has_seven(7777)\n",
    "    True\n",
    "    \"\"\"\n",
    "    if k % 10 == 7:\n",
    "        return True\n",
    "    elif k < 10:\n",
    "        return False\n",
    "    else:\n",
    "        return has_seven(k // 10)    "
   ]
  },
  {
   "cell_type": "code",
   "execution_count": null,
   "metadata": {},
   "outputs": [],
   "source": [
    "has_seven(10)"
   ]
  },
  {
   "cell_type": "code",
   "execution_count": null,
   "metadata": {},
   "outputs": [],
   "source": [
    "has_seven(7)"
   ]
  },
  {
   "cell_type": "code",
   "execution_count": null,
   "metadata": {},
   "outputs": [],
   "source": [
    "def fibonacci(n):\n",
    "    \"\"\"\n",
    "    Implement a function using recursion to find the n'th fibonacci number\n",
    "    \"\"\"\n",
    "     ### your code here"
   ]
  },
  {
   "cell_type": "code",
   "execution_count": null,
   "metadata": {},
   "outputs": [],
   "source": [
    "# Extra: Recursion challenge with the Towers of Hanoi\n",
    "\n",
    "def print_move(origin, destination):\n",
    "    \"\"\"Print instructions to move a disk.\"\"\"\n",
    "    print(\"Move the top disk from rod\", origin, \"to rod\", destination)\n",
    "\n",
    "def move_stack(n, start, end):\n",
    "    \"\"\"Print the moves required to move n disks on the start pole to the end\n",
    "    pole without violating the rules of Towers of Hanoi.\n",
    "\n",
    "    n -- number of disks\n",
    "    start -- a pole position, either 1, 2, or 3\n",
    "    end -- a pole position, either 1, 2, or 3\n",
    "\n",
    "    There are exactly three poles, and start and end must be different. Assume\n",
    "    that the start pole has at least n disks of increasing size, and the end\n",
    "    pole is either empty or has a top disk larger than the top n start disks.\n",
    "\n",
    "    >>> move_stack(1, 1, 3)\n",
    "    Move the top disk from rod 1 to rod 3\n",
    "    >>> move_stack(2, 1, 3)\n",
    "    Move the top disk from rod 1 to rod 2\n",
    "    Move the top disk from rod 1 to rod 3\n",
    "    Move the top disk from rod 2 to rod 3\n",
    "    >>> move_stack(3, 1, 3)\n",
    "    Move the top disk from rod 1 to rod 3\n",
    "    Move the top disk from rod 1 to rod 2\n",
    "    Move the top disk from rod 3 to rod 2\n",
    "    Move the top disk from rod 1 to rod 3\n",
    "    Move the top disk from rod 2 to rod 1\n",
    "    Move the top disk from rod 2 to rod 3\n",
    "    Move the top disk from rod 1 to rod 3\n",
    "    \"\"\"\n",
    "    assert 1 <= start <= 3 and 1 <= end <= 3 and start != end, \"Bad start/end\"\n",
    "    ### your code here\n"
   ]
  }
 ],
 "metadata": {
  "kernelspec": {
   "display_name": "Python 3",
   "language": "python",
   "name": "python3"
  },
  "language_info": {
   "codemirror_mode": {
    "name": "ipython",
    "version": 3
   },
   "file_extension": ".py",
   "mimetype": "text/x-python",
   "name": "python",
   "nbconvert_exporter": "python",
   "pygments_lexer": "ipython3",
   "version": "3.6.8"
  }
 },
 "nbformat": 4,
 "nbformat_minor": 2
}
